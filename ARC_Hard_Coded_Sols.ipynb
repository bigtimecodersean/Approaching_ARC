{
  "nbformat": 4,
  "nbformat_minor": 0,
  "metadata": {
    "colab": {
      "provenance": []
    },
    "kernelspec": {
      "name": "python3",
      "display_name": "Python 3"
    },
    "language_info": {
      "name": "python"
    }
  },
  "cells": [
    {
      "cell_type": "markdown",
      "source": [
        "### Task 209: 8be77c9e.json"
      ],
      "metadata": {
        "id": "cTKSuhe8hwfG"
      }
    },
    {
      "cell_type": "code",
      "source": [
        "import json \n",
        "f = open('/ARC_task_8be77c9e.json')\n",
        "data = json.load(f)\n",
        "data"
      ],
      "metadata": {
        "id": "jNStexofgx5v"
      },
      "execution_count": null,
      "outputs": []
    },
    {
      "cell_type": "code",
      "source": [
        "#Copying the Input Grid \n",
        "def Copy_Input_Grid(X): \n",
        "  return X\n",
        "\n",
        "#Define a Vertical Flip (over x axis) function\n",
        "def Vertical_Flip(X):\n",
        "  return X[::-1]\n",
        "\n",
        "#Define a vertical concatenation function: takes in two matrices and concatenates them \n",
        "def Vertical_Concat(A,B): #input two matrices \n",
        "  X = A + B\n",
        "  return X #return concatenated matrix \n",
        "\n",
        "def Task_8_be77c9e(Input): \n",
        "  A = Copy_Input_Grid(Input)\n",
        "  B = Vertical_Flip(A)\n",
        "  Output = Vertical_Concat(A,B)\n",
        "\n",
        "  return Output"
      ],
      "metadata": {
        "id": "JcCOEa1chgUv"
      },
      "execution_count": null,
      "outputs": []
    },
    {
      "cell_type": "code",
      "source": [
        "#Testing the solution on the test example"
      ],
      "metadata": {
        "id": "qlonXqnMhvol"
      },
      "execution_count": null,
      "outputs": []
    },
    {
      "cell_type": "code",
      "source": [
        "#Function to check whether solution was correct \n",
        "\n",
        "def Check_Solution(Test_Output, My_Solution_Output): \n",
        "  if My_Solution_Output == Test_Output: \n",
        "    return True \n",
        "  else: \n",
        "    print(\"Your solution was incorrect\")\n",
        "    return False \n"
      ],
      "metadata": {
        "id": "hXkTXO9viGDW"
      },
      "execution_count": null,
      "outputs": []
    },
    {
      "cell_type": "code",
      "source": [
        "Solution_Output = Task_8_be77c9e(Input = data['test'][0]['input']\n",
        ")\n",
        "\n",
        "Test_Output = data['test'][0]['output']\n",
        "\n",
        "Check_Solution(Test_Output, Solution_Output )"
      ],
      "metadata": {
        "colab": {
          "base_uri": "https://localhost:8080/"
        },
        "id": "cbsXHF3bm8mW",
        "outputId": "b260323b-33e1-40a2-c46b-f7d25027eab5"
      },
      "execution_count": null,
      "outputs": [
        {
          "output_type": "execute_result",
          "data": {
            "text/plain": [
              "True"
            ]
          },
          "metadata": {},
          "execution_count": 53
        }
      ]
    },
    {
      "cell_type": "markdown",
      "source": [
        "###Task 268: ac0a08a4.json "
      ],
      "metadata": {
        "id": "Zx9mrbJ3nTrX"
      }
    },
    {
      "cell_type": "code",
      "source": [
        "#Load the data\n",
        "f = open('/ARC_Task_ac0a08a4.JSON')\n",
        "data = json.load(f)\n",
        "data"
      ],
      "metadata": {
        "colab": {
          "base_uri": "https://localhost:8080/"
        },
        "id": "flfq5IYwoOMp",
        "outputId": "91d6a772-b797-4310-f761-c9f890a0b49f"
      },
      "execution_count": null,
      "outputs": [
        {
          "output_type": "execute_result",
          "data": {
            "text/plain": [
              "{'train': [{'input': [[2, 0, 0], [0, 0, 7], [0, 0, 0]],\n",
              "   'output': [[2, 2, 0, 0, 0, 0],\n",
              "    [2, 2, 0, 0, 0, 0],\n",
              "    [0, 0, 0, 0, 7, 7],\n",
              "    [0, 0, 0, 0, 7, 7],\n",
              "    [0, 0, 0, 0, 0, 0],\n",
              "    [0, 0, 0, 0, 0, 0]]},\n",
              "  {'input': [[0, 4, 0], [0, 0, 8], [6, 0, 0]],\n",
              "   'output': [[0, 0, 0, 4, 4, 4, 0, 0, 0],\n",
              "    [0, 0, 0, 4, 4, 4, 0, 0, 0],\n",
              "    [0, 0, 0, 4, 4, 4, 0, 0, 0],\n",
              "    [0, 0, 0, 0, 0, 0, 8, 8, 8],\n",
              "    [0, 0, 0, 0, 0, 0, 8, 8, 8],\n",
              "    [0, 0, 0, 0, 0, 0, 8, 8, 8],\n",
              "    [6, 6, 6, 0, 0, 0, 0, 0, 0],\n",
              "    [6, 6, 6, 0, 0, 0, 0, 0, 0],\n",
              "    [6, 6, 6, 0, 0, 0, 0, 0, 0]]},\n",
              "  {'input': [[0, 6, 9], [3, 0, 2], [0, 7, 0]],\n",
              "   'output': [[0, 0, 0, 0, 0, 6, 6, 6, 6, 6, 9, 9, 9, 9, 9],\n",
              "    [0, 0, 0, 0, 0, 6, 6, 6, 6, 6, 9, 9, 9, 9, 9],\n",
              "    [0, 0, 0, 0, 0, 6, 6, 6, 6, 6, 9, 9, 9, 9, 9],\n",
              "    [0, 0, 0, 0, 0, 6, 6, 6, 6, 6, 9, 9, 9, 9, 9],\n",
              "    [0, 0, 0, 0, 0, 6, 6, 6, 6, 6, 9, 9, 9, 9, 9],\n",
              "    [3, 3, 3, 3, 3, 0, 0, 0, 0, 0, 2, 2, 2, 2, 2],\n",
              "    [3, 3, 3, 3, 3, 0, 0, 0, 0, 0, 2, 2, 2, 2, 2],\n",
              "    [3, 3, 3, 3, 3, 0, 0, 0, 0, 0, 2, 2, 2, 2, 2],\n",
              "    [3, 3, 3, 3, 3, 0, 0, 0, 0, 0, 2, 2, 2, 2, 2],\n",
              "    [3, 3, 3, 3, 3, 0, 0, 0, 0, 0, 2, 2, 2, 2, 2],\n",
              "    [0, 0, 0, 0, 0, 7, 7, 7, 7, 7, 0, 0, 0, 0, 0],\n",
              "    [0, 0, 0, 0, 0, 7, 7, 7, 7, 7, 0, 0, 0, 0, 0],\n",
              "    [0, 0, 0, 0, 0, 7, 7, 7, 7, 7, 0, 0, 0, 0, 0],\n",
              "    [0, 0, 0, 0, 0, 7, 7, 7, 7, 7, 0, 0, 0, 0, 0],\n",
              "    [0, 0, 0, 0, 0, 7, 7, 7, 7, 7, 0, 0, 0, 0, 0]]}],\n",
              " 'test': [{'input': [[1, 0, 0], [0, 9, 6], [8, 0, 0]],\n",
              "   'output': [[1, 1, 1, 1, 0, 0, 0, 0, 0, 0, 0, 0],\n",
              "    [1, 1, 1, 1, 0, 0, 0, 0, 0, 0, 0, 0],\n",
              "    [1, 1, 1, 1, 0, 0, 0, 0, 0, 0, 0, 0],\n",
              "    [1, 1, 1, 1, 0, 0, 0, 0, 0, 0, 0, 0],\n",
              "    [0, 0, 0, 0, 9, 9, 9, 9, 6, 6, 6, 6],\n",
              "    [0, 0, 0, 0, 9, 9, 9, 9, 6, 6, 6, 6],\n",
              "    [0, 0, 0, 0, 9, 9, 9, 9, 6, 6, 6, 6],\n",
              "    [0, 0, 0, 0, 9, 9, 9, 9, 6, 6, 6, 6],\n",
              "    [8, 8, 8, 8, 0, 0, 0, 0, 0, 0, 0, 0],\n",
              "    [8, 8, 8, 8, 0, 0, 0, 0, 0, 0, 0, 0],\n",
              "    [8, 8, 8, 8, 0, 0, 0, 0, 0, 0, 0, 0],\n",
              "    [8, 8, 8, 8, 0, 0, 0, 0, 0, 0, 0, 0]]}]}"
            ]
          },
          "metadata": {},
          "execution_count": 126
        }
      ]
    },
    {
      "cell_type": "code",
      "source": [
        "#Stay away from using numpy arrays? \n",
        "import numpy as np \n",
        "\n",
        "#Take in a matrix, return a tuple of the dimensions\n",
        "def get_input_grid_dimensions(X):\n",
        "  #convert input (list/matrix?) to an array \n",
        "  array = np.array(X)\n",
        "  dims = array.shape\n",
        "\n",
        "  return dims \n",
        "\n",
        "#takes in a matrix, returns the number of non-black squaraes\n",
        "def num_non_black_squares(input_grid):\n",
        "  num_non_black_squares = 0\n",
        "  for lst in input_grid: \n",
        "    for item in lst: \n",
        "      if item != 0: #black squares = 0?\n",
        "        num_non_black_squares += 1 \n",
        "  return num_non_black_squares\n",
        "\n",
        "#Get the dimensions required for the output grid\n",
        "def Get_Output_Grid_Dims(input_grid_dims, number_non_black_squares):\n",
        "  #eg. (3,3) * 4 --> (12,12)\n",
        "  output_grid_dims = [dim*number_non_black_squares for dim in input_grid_dims]\n",
        "  #turn list back into a tuple\n",
        "  output_grid_dims = tuple(output_grid_dims)\n",
        "  return output_grid_dims \n",
        "\n",
        " #Initialize a matrix with the dimensions of get_output_grid_dims (squares all black) \n",
        "def Set_Output_Grid(dims): \n",
        "  w, h = dims\n",
        "  output_matrix = [[0 for x in range(w)] for y in range(h)]\n",
        "  return output_matrix\n",
        "\n",
        "#take in a grid, return a list of [x,y,c] lists, representing the x,y coords and color c of each non-black square \n",
        "def get_non_black_squares(input_grid): \n",
        "  list_non_black_squares = []\n",
        "  #loop through every square in the input grid\n",
        "  for i in range(len(input_grid)): \n",
        "    for j in range(len(input_grid)): \n",
        "      #if the square is not black (!= 0):\n",
        "      if input_grid[i][j] != 0: \n",
        "        square = [0,0,0]\n",
        "        #get the i,j coordinates of that square \n",
        "        square[0] = i \n",
        "        square[1] =j\n",
        "        #get the color of that square\n",
        "        square[2] = input_grid[i][j]\n",
        "        #save these tuples in a list_tuples [(i,j,c)]\n",
        "        list_non_black_squares.append(square)\n",
        "      \n",
        "  return list_non_black_squares\n",
        "\n",
        "\n",
        "#Wrap all of this in a single function \n",
        "def Task_268_ac0a08a4(input_grid): \n",
        "  num_non_black_squares = num_non_black_squares(input_grid)\n",
        "  input_grid_dimensions = get_input_grid_dimensions(input_grid)\n",
        "  output_grid_dims = Get_Output_Grid_Dims(input_grid_dimensions, num_non_black_squares)\n",
        "  output_matrix = Set_Output_Grid(output_grid_dims)\n",
        "  get_non_black_squares(input_grid)\n",
        "  list_non_black_squares = get_non_black_squares(input_grid)\n",
        "\n",
        "  #now, loop through every square in the list_non_black_squares, and set the corresponding squares in the output grid \n",
        "  for square in list_non_black_squares: \n",
        "    for num1 in list(range(0,num_non_black_squares)):\n",
        "      for num2 in list(range(0,num_non_black_squares)):\n",
        "        output_matrix[square[0]*num_non_black_squares+num1][square[1]*num_non_black_squares+num2] = square[2]\n",
        "  \n",
        "  return output_matrix \n",
        "\n",
        "\n",
        "\n"
      ],
      "metadata": {
        "id": "jvwwLsf0oSIV"
      },
      "execution_count": null,
      "outputs": []
    },
    {
      "cell_type": "code",
      "source": [
        "A = [[5,0,0], [0,0,3], [0,0,0]]\n",
        "Task_268_ac0a08a4(A)"
      ],
      "metadata": {
        "colab": {
          "base_uri": "https://localhost:8080/"
        },
        "id": "1yzxMbEEg5Zh",
        "outputId": "f55458b2-fb91-44f3-8b26-5dd55a5baa2d"
      },
      "execution_count": null,
      "outputs": [
        {
          "output_type": "execute_result",
          "data": {
            "text/plain": [
              "[[5, 5, 0, 0, 0, 0],\n",
              " [5, 5, 0, 0, 0, 0],\n",
              " [0, 0, 0, 0, 3, 3],\n",
              " [0, 0, 0, 0, 3, 3],\n",
              " [0, 0, 0, 0, 0, 0],\n",
              " [0, 0, 0, 0, 0, 0]]"
            ]
          },
          "metadata": {},
          "execution_count": 128
        }
      ]
    },
    {
      "cell_type": "code",
      "source": [
        "#Check the solution\n",
        "Solution_Output = Task_268_ac0a08a4(input_grid = data['test'][0]['input'])\n",
        "Test_Output = data['test'][0]['output']\n",
        "Check_Solution(Test_Output, Solution_Output )\n",
        "\n",
        "\n"
      ],
      "metadata": {
        "colab": {
          "base_uri": "https://localhost:8080/"
        },
        "id": "pQS-8vRecllM",
        "outputId": "5743d487-6735-42d3-d901-336d1e79221e"
      },
      "execution_count": null,
      "outputs": [
        {
          "output_type": "execute_result",
          "data": {
            "text/plain": [
              "True"
            ]
          },
          "metadata": {},
          "execution_count": 129
        }
      ]
    },
    {
      "cell_type": "code",
      "source": [],
      "metadata": {
        "colab": {
          "base_uri": "https://localhost:8080/"
        },
        "id": "Qdm7u3VQcIHB",
        "outputId": "21216c60-415f-46f3-aa29-f05bd1d29385"
      },
      "execution_count": null,
      "outputs": [
        {
          "output_type": "execute_result",
          "data": {
            "text/plain": [
              "[[5, 5, 0, 0, 0, 0],\n",
              " [5, 5, 0, 0, 0, 0],\n",
              " [0, 0, 0, 0, 8, 8],\n",
              " [0, 0, 0, 0, 8, 8],\n",
              " [0, 0, 0, 0, 0, 0],\n",
              " [0, 0, 0, 0, 0, 0]]"
            ]
          },
          "metadata": {},
          "execution_count": 117
        }
      ]
    },
    {
      "cell_type": "markdown",
      "source": [
        "###Task 265: a9f96cdd.json  \n"
      ],
      "metadata": {
        "id": "8p_BLEw2hfA2"
      }
    },
    {
      "cell_type": "code",
      "source": [
        "import json \n",
        "#Load the data\n",
        "f = open('/content/ARC_Task_a9f96cdd.JSON')\n",
        "data = json.load(f)\n",
        "print(data)\n",
        "\n",
        "#Copy input grid \n",
        "def Copy_Input_Grid(X): \n",
        "  return X\n",
        "\n",
        "#If we want to reuse another function: Waste of space bc don't need color \n",
        "#take in a grid, return a list of [x,y,c] lists, representing the x,y coords and color c of each non-black square \n",
        "def get_non_black_squares(input_grid): \n",
        "  list_non_black_squares = []\n",
        "  #loop through every square in the input grid\n",
        "  for i in range(len(input_grid)): \n",
        "    for j in range(len(input_grid[0])): \n",
        "      #if the square is not black (!= 0):\n",
        "      if input_grid[i][j] != 0: \n",
        "        square = [0,0,0]\n",
        "        #get the i,j coordinates of that square \n",
        "        square[0] = i \n",
        "        square[1] =j\n",
        "        #get the color of that square\n",
        "        square[2] = input_grid[i][j]\n",
        "        #save these tuples in a list_tuples [(i,j,c)]\n",
        "        list_non_black_squares.append(square)\n",
        "      \n",
        "  return list_non_black_squares\n",
        "\n",
        "#if we don't want to reuse another function: \n",
        "def get_non_black_square_coords(input_grid): \n",
        "  non_black_square_coords = [0,0] \n",
        "  for i in range(len(input_grid)): \n",
        "    for j in range(len(input_grid[0])): \n",
        "      #if the square is not black (!= 0):\n",
        "      if input_grid[i][j] != 0:\n",
        "        non_black_square_coords[0] = i\n",
        "        non_black_square_coords[1] = j \n",
        "  return non_black_square_coords \n",
        "\n",
        "\n",
        "#Make the colors not hard-coded \n",
        "def Color_Corners_of_Square(output_grid, Square_Coords): \n",
        "  [i,j] = Square_Coords\n",
        "#Color the corners, if the corner coordinate exists \n",
        "  if 0 <= i-1 and i-1 <= len(output_grid) and 0 <= j-1 and j-1 <= len(output_grid[0]):\n",
        "    output_grid[i-1][j-1] = 3 #green:\" ***I only knew green was 3 by looking at the training outputs \n",
        "  if (0 <= i+1) and (i+1 <= len(output_grid) - 1) and (0 <= j-1) and (j-1 <= len(output_grid[0])-1):\n",
        "    output_grid[i+1][j-1] = 8 #pink: ' ' \n",
        "  if (0 <= i-1) and (i-1 <= len(output_grid) - 1) and (0 <= j+1) and (j+1 <= len(output_grid[0])-1):\n",
        "    output_grid[i-1][j+1] = 6 #light blue: ' ' \n",
        "  if (0 <= i+1) and (i+1 <= len(output_grid) - 1) and (0 <= j+1) and (j+1 <= len(output_grid[0])-1):\n",
        "    output_grid[i+1][j+1] = 7 #orange: ' ' \n",
        "\n",
        "  return output_grid\n",
        "\n"
      ],
      "metadata": {
        "colab": {
          "base_uri": "https://localhost:8080/"
        },
        "id": "j5Ga-QJsGqzt",
        "outputId": "fa82137c-915e-4b33-d88d-0e6136434ed4"
      },
      "execution_count": null,
      "outputs": [
        {
          "output_type": "stream",
          "name": "stdout",
          "text": [
            "{'train': [{'input': [[0, 0, 0, 0, 0], [0, 2, 0, 0, 0], [0, 0, 0, 0, 0]], 'output': [[3, 0, 6, 0, 0], [0, 0, 0, 0, 0], [8, 0, 7, 0, 0]]}, {'input': [[0, 0, 0, 0, 0], [0, 0, 0, 0, 0], [0, 0, 0, 0, 2]], 'output': [[0, 0, 0, 0, 0], [0, 0, 0, 3, 0], [0, 0, 0, 0, 0]]}, {'input': [[0, 0, 2, 0, 0], [0, 0, 0, 0, 0], [0, 0, 0, 0, 0]], 'output': [[0, 0, 0, 0, 0], [0, 8, 0, 7, 0], [0, 0, 0, 0, 0]]}, {'input': [[0, 0, 0, 0, 0], [0, 0, 0, 2, 0], [0, 0, 0, 0, 0]], 'output': [[0, 0, 3, 0, 6], [0, 0, 0, 0, 0], [0, 0, 8, 0, 7]]}], 'test': [{'input': [[0, 0, 0, 0, 0], [0, 0, 0, 0, 2], [0, 0, 0, 0, 0]], 'output': [[0, 0, 0, 3, 0], [0, 0, 0, 0, 0], [0, 0, 0, 8, 0]]}]}\n"
          ]
        }
      ]
    },
    {
      "cell_type": "code",
      "source": [
        "X = data['test'][0]['input']\n",
        "print(X)\n",
        "output_grid = Copy_Input_Grid(X) \n",
        "[i, j] = get_non_black_square_coords(output_grid)\n",
        "#color the non-black square black\n",
        "output_grid[i][j] = 0\n",
        "\n",
        "Color_Corners_of_Square(output_grid, [i,j] )"
      ],
      "metadata": {
        "colab": {
          "base_uri": "https://localhost:8080/"
        },
        "id": "0LOary7NLbcs",
        "outputId": "673c0aef-d5a5-44ea-a953-34b77e57ce3e"
      },
      "execution_count": null,
      "outputs": [
        {
          "output_type": "stream",
          "name": "stdout",
          "text": [
            "[[0, 0, 0, 0, 0], [0, 0, 0, 0, 2], [0, 0, 0, 0, 0]]\n"
          ]
        },
        {
          "output_type": "execute_result",
          "data": {
            "text/plain": [
              "[[0, 0, 0, 3, 0], [0, 0, 0, 0, 0], [0, 0, 0, 8, 0]]"
            ]
          },
          "metadata": {},
          "execution_count": 97
        }
      ]
    },
    {
      "cell_type": "markdown",
      "source": [
        "###Task 395:    fcb5c309.json      "
      ],
      "metadata": {
        "id": "7hyfeQk6ftV8"
      }
    },
    {
      "cell_type": "markdown",
      "source": [
        "\n",
        "PseudoCode\n",
        "\n"
      ],
      "metadata": {
        "id": "Ai1sL06Vfzij"
      }
    },
    {
      "cell_type": "code",
      "source": [
        "#Input: input_grid; return: all_rectangles \n",
        "def Find_Rectangles(input_grid): ??? \n",
        "  Return all_rectangles: a list of all the rectangles #each rectangle represented by [ [ [x1,y1], [x2,y2] ... [xn, yn] ] ,c]: x,y coords that make up the rectangle, and the corresponding color \n",
        "\n",
        "#input a list of rectangles, \n",
        "def Find_largest_rectangle(rectangles): \n",
        "  # Count how squares make up the rectangle \n",
        "  For rectangle in all_rectangles: \n",
        "  Return largest_rectangle #return rectangle in the form [  [x1,y1, c], [x2,y2, c] ... [xn, yn] ]\n",
        "\n",
        "def Set_Output_Grid(dims): \n",
        "  w, h = dims\n",
        "  output_matrix = [[0 for x in range(w)] for y in range(h)]\n",
        "  return output_matrix\n",
        "\n",
        "\n",
        "#Input a list of perimeter coordinates; outputs: list of squares in the interior of the perimeter. Each square represented as [x,y,c]\n",
        "def Get_Interior_Squares(perimeter_coords): \n",
        "  interior_squares = [[]]\n",
        "\n",
        "  return interior_squares\n",
        "\n",
        "#Find all the rectangles in the input grid\n",
        "all_rectangles = Find_Rectangles(input_grid)\n",
        "#find the largest of these rectangles\n",
        "largest_rectangle = Find_largest_rectangle(all_rectangles)\n",
        "#get the dimensions of this largest rectangle: \n",
        "largest_rectangle_dimensions = #len(largest_rectangle)  ??? \n",
        "#set the output grid size to Largest_Rectangle_Dimensions\n",
        "Set_Output_Grid(largest_rectangle_dimensions)  \n",
        "# Get the squares in the input grid that are in the interior of this rectangle perimeter\n",
        "interior_squares = Get_Interior_Squares(input_grid, largest_rectangle)\n",
        "#Filter out the non-black squares in interior_rectangle \n",
        "non_black_interior_squares = []\n",
        "for square in interior_squares: \n",
        "  if square[2] != 0: \n",
        "    non_black_interior_squares.append(square)   \n",
        "\n",
        "#Get the color of these squares \n",
        "inside_color = non_black_interior_squares[0][2]\n",
        "\n",
        "#Color the perimeter of the output grid with inside_color \n",
        "def set_perimeter_color(output_grid): \n",
        "  for i in range(0, len(largest_rectangle_dims)): \n",
        "    for j: \n",
        "      output_grid[i][j] = inside_color\n",
        "\n",
        "\n",
        "\n",
        "#Color the inside of the grid with interior_rectangle: \n",
        "For square in interior_squares: \n",
        "  Output_grid[square[0]-1] ] = inside_color  \n",
        "  Output_grid[square[1]-1] = inside_color \n",
        "\n"
      ],
      "metadata": {
        "id": "Y5jisSItf46R"
      },
      "execution_count": null,
      "outputs": []
    },
    {
      "cell_type": "code",
      "source": [],
      "metadata": {
        "id": "aB_6VFJ6fw72"
      },
      "execution_count": null,
      "outputs": []
    }
  ]
}